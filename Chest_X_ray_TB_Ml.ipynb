{
  "nbformat": 4,
  "nbformat_minor": 0,
  "metadata": {
    "colab": {
      "name": "Chest_X-ray_Classification_TB_Ml.ipynb",
      "provenance": [],
      "collapsed_sections": [],
      "authorship_tag": "ABX9TyNuKzwjm7guEA01SLTbvoPK"
    },
    "kernelspec": {
      "name": "python3",
      "display_name": "Python 3"
    },
    "accelerator": "GPU",
    "widgets": {
      "application/vnd.jupyter.widget-state+json": {
        "5cd0a7cef6e74c609b55d3f119b4db88": {
          "model_module": "@jupyter-widgets/controls",
          "model_name": "HBoxModel",
          "state": {
            "_view_name": "HBoxView",
            "_dom_classes": [],
            "_model_name": "HBoxModel",
            "_view_module": "@jupyter-widgets/controls",
            "_model_module_version": "1.5.0",
            "_view_count": null,
            "_view_module_version": "1.5.0",
            "box_style": "",
            "layout": "IPY_MODEL_0b2b1de7e408460fb24befa60a1f3e35",
            "_model_module": "@jupyter-widgets/controls",
            "children": [
              "IPY_MODEL_e720273402e44723b0f6bcdef8bfa326",
              "IPY_MODEL_ecd0b9a3d0fa4ac09dda9c88b797445f"
            ]
          },
          "model_module_version": "1.5.0"
        },
        "0b2b1de7e408460fb24befa60a1f3e35": {
          "model_module": "@jupyter-widgets/base",
          "model_name": "LayoutModel",
          "state": {
            "_view_name": "LayoutView",
            "grid_template_rows": null,
            "right": null,
            "justify_content": null,
            "_view_module": "@jupyter-widgets/base",
            "overflow": null,
            "_model_module_version": "1.2.0",
            "_view_count": null,
            "flex_flow": null,
            "width": null,
            "min_width": null,
            "border": null,
            "align_items": null,
            "bottom": null,
            "_model_module": "@jupyter-widgets/base",
            "top": null,
            "grid_column": null,
            "overflow_y": null,
            "overflow_x": null,
            "grid_auto_flow": null,
            "grid_area": null,
            "grid_template_columns": null,
            "flex": null,
            "_model_name": "LayoutModel",
            "justify_items": null,
            "grid_row": null,
            "max_height": null,
            "align_content": null,
            "visibility": null,
            "align_self": null,
            "height": null,
            "min_height": null,
            "padding": null,
            "grid_auto_rows": null,
            "grid_gap": null,
            "max_width": null,
            "order": null,
            "_view_module_version": "1.2.0",
            "grid_template_areas": null,
            "object_position": null,
            "object_fit": null,
            "grid_auto_columns": null,
            "margin": null,
            "display": null,
            "left": null
          },
          "model_module_version": "1.2.0"
        },
        "e720273402e44723b0f6bcdef8bfa326": {
          "model_module": "@jupyter-widgets/controls",
          "model_name": "FloatProgressModel",
          "state": {
            "_view_name": "ProgressView",
            "style": "IPY_MODEL_5ca5a35910bd4d8e94566b4253409dae",
            "_dom_classes": [],
            "description": "100%",
            "_model_name": "FloatProgressModel",
            "bar_style": "success",
            "max": 77999237,
            "_view_module": "@jupyter-widgets/controls",
            "_model_module_version": "1.5.0",
            "value": 77999237,
            "_view_count": null,
            "_view_module_version": "1.5.0",
            "orientation": "horizontal",
            "min": 0,
            "description_tooltip": null,
            "_model_module": "@jupyter-widgets/controls",
            "layout": "IPY_MODEL_c1f8bb39c2114525afcc3b0ceb559a91"
          },
          "model_module_version": "1.5.0"
        },
        "ecd0b9a3d0fa4ac09dda9c88b797445f": {
          "model_module": "@jupyter-widgets/controls",
          "model_name": "HTMLModel",
          "state": {
            "_view_name": "HTMLView",
            "style": "IPY_MODEL_6184e8b6361c4931aa894183d998ca4a",
            "_dom_classes": [],
            "description": "",
            "_model_name": "HTMLModel",
            "placeholder": "​",
            "_view_module": "@jupyter-widgets/controls",
            "_model_module_version": "1.5.0",
            "value": " 74.4M/74.4M [00:01&lt;00:00, 50.3MB/s]",
            "_view_count": null,
            "_view_module_version": "1.5.0",
            "description_tooltip": null,
            "_model_module": "@jupyter-widgets/controls",
            "layout": "IPY_MODEL_9b50c35413c9440482cd260f862f2177"
          },
          "model_module_version": "1.5.0"
        },
        "5ca5a35910bd4d8e94566b4253409dae": {
          "model_module": "@jupyter-widgets/controls",
          "model_name": "ProgressStyleModel",
          "state": {
            "_view_name": "StyleView",
            "_model_name": "ProgressStyleModel",
            "description_width": "initial",
            "_view_module": "@jupyter-widgets/base",
            "_model_module_version": "1.5.0",
            "_view_count": null,
            "_view_module_version": "1.2.0",
            "bar_color": null,
            "_model_module": "@jupyter-widgets/controls"
          },
          "model_module_version": "1.5.0"
        },
        "c1f8bb39c2114525afcc3b0ceb559a91": {
          "model_module": "@jupyter-widgets/base",
          "model_name": "LayoutModel",
          "state": {
            "_view_name": "LayoutView",
            "grid_template_rows": null,
            "right": null,
            "justify_content": null,
            "_view_module": "@jupyter-widgets/base",
            "overflow": null,
            "_model_module_version": "1.2.0",
            "_view_count": null,
            "flex_flow": null,
            "width": null,
            "min_width": null,
            "border": null,
            "align_items": null,
            "bottom": null,
            "_model_module": "@jupyter-widgets/base",
            "top": null,
            "grid_column": null,
            "overflow_y": null,
            "overflow_x": null,
            "grid_auto_flow": null,
            "grid_area": null,
            "grid_template_columns": null,
            "flex": null,
            "_model_name": "LayoutModel",
            "justify_items": null,
            "grid_row": null,
            "max_height": null,
            "align_content": null,
            "visibility": null,
            "align_self": null,
            "height": null,
            "min_height": null,
            "padding": null,
            "grid_auto_rows": null,
            "grid_gap": null,
            "max_width": null,
            "order": null,
            "_view_module_version": "1.2.0",
            "grid_template_areas": null,
            "object_position": null,
            "object_fit": null,
            "grid_auto_columns": null,
            "margin": null,
            "display": null,
            "left": null
          },
          "model_module_version": "1.2.0"
        },
        "6184e8b6361c4931aa894183d998ca4a": {
          "model_module": "@jupyter-widgets/controls",
          "model_name": "DescriptionStyleModel",
          "state": {
            "_view_name": "StyleView",
            "_model_name": "DescriptionStyleModel",
            "description_width": "",
            "_view_module": "@jupyter-widgets/base",
            "_model_module_version": "1.5.0",
            "_view_count": null,
            "_view_module_version": "1.2.0",
            "_model_module": "@jupyter-widgets/controls"
          },
          "model_module_version": "1.5.0"
        },
        "9b50c35413c9440482cd260f862f2177": {
          "model_module": "@jupyter-widgets/base",
          "model_name": "LayoutModel",
          "state": {
            "_view_name": "LayoutView",
            "grid_template_rows": null,
            "right": null,
            "justify_content": null,
            "_view_module": "@jupyter-widgets/base",
            "overflow": null,
            "_model_module_version": "1.2.0",
            "_view_count": null,
            "flex_flow": null,
            "width": null,
            "min_width": null,
            "border": null,
            "align_items": null,
            "bottom": null,
            "_model_module": "@jupyter-widgets/base",
            "top": null,
            "grid_column": null,
            "overflow_y": null,
            "overflow_x": null,
            "grid_auto_flow": null,
            "grid_area": null,
            "grid_template_columns": null,
            "flex": null,
            "_model_name": "LayoutModel",
            "justify_items": null,
            "grid_row": null,
            "max_height": null,
            "align_content": null,
            "visibility": null,
            "align_self": null,
            "height": null,
            "min_height": null,
            "padding": null,
            "grid_auto_rows": null,
            "grid_gap": null,
            "max_width": null,
            "order": null,
            "_view_module_version": "1.2.0",
            "grid_template_areas": null,
            "object_position": null,
            "object_fit": null,
            "grid_auto_columns": null,
            "margin": null,
            "display": null,
            "left": null
          },
          "model_module_version": "1.2.0"
        }
      }
    }
  },
  "cells": [
    {
      "cell_type": "code",
      "metadata": {
        "id": "rAf7XUMclN1P",
        "colab": {
          "base_uri": "https://localhost:8080/"
        },
        "outputId": "185c1b9f-8083-4b7c-a2e2-0c2fde5bf572"
      },
      "source": [
        "!pip install nvidia-smi"
      ],
      "execution_count": null,
      "outputs": [
        {
          "output_type": "stream",
          "text": [
            "Collecting nvidia-smi\n",
            "  Downloading https://files.pythonhosted.org/packages/7f/0f/3b9b70372cfb4f67aead62f0197aeefde80cd589dba058fea3f01b2bb404/nvidia_smi-0.1.3-py36-none-any.whl\n",
            "Collecting sorcery>=0.1.0\n",
            "  Downloading https://files.pythonhosted.org/packages/44/d0/2afb56baa92cef73836f36838d46ba583d96e5d2071824424a457e437cce/sorcery-0.2.1.tar.gz\n",
            "Requirement already satisfied: six>=1.12.0 in /usr/local/lib/python3.7/dist-packages (from nvidia-smi) (1.15.0)\n",
            "Collecting pytest>=4.3.1\n",
            "\u001b[?25l  Downloading https://files.pythonhosted.org/packages/a1/59/6821e900592fbe261f19d67e4def0cb27e52ef8ed16d9922c144961cc1ee/pytest-6.2.4-py3-none-any.whl (280kB)\n",
            "\u001b[K     |████████████████████████████████| 286kB 10.6MB/s \n",
            "\u001b[?25hRequirement already satisfied: numpy>=1.16.2 in /usr/local/lib/python3.7/dist-packages (from nvidia-smi) (1.19.5)\n",
            "Collecting executing\n",
            "  Downloading https://files.pythonhosted.org/packages/17/85/b84ea78f52bcb5513a790e64edc19687d8699ea6b4197f075da28547a370/executing-0.7.0-py2.py3-none-any.whl\n",
            "Collecting littleutils>=0.2.1\n",
            "  Downloading https://files.pythonhosted.org/packages/4e/b1/bb4e06f010947d67349f863b6a2ad71577f85590180a935f60543f622652/littleutils-0.2.2.tar.gz\n",
            "Collecting asttokens\n",
            "  Downloading https://files.pythonhosted.org/packages/16/d5/b0ad240c22bba2f4591693b0ca43aae94fbd77fb1e2b107d54fff1462b6f/asttokens-2.0.5-py2.py3-none-any.whl\n",
            "Requirement already satisfied: wrapt in /usr/local/lib/python3.7/dist-packages (from sorcery>=0.1.0->nvidia-smi) (1.12.1)\n",
            "Requirement already satisfied: py>=1.8.2 in /usr/local/lib/python3.7/dist-packages (from pytest>=4.3.1->nvidia-smi) (1.10.0)\n",
            "Requirement already satisfied: iniconfig in /usr/local/lib/python3.7/dist-packages (from pytest>=4.3.1->nvidia-smi) (1.1.1)\n",
            "Requirement already satisfied: attrs>=19.2.0 in /usr/local/lib/python3.7/dist-packages (from pytest>=4.3.1->nvidia-smi) (21.2.0)\n",
            "Requirement already satisfied: toml in /usr/local/lib/python3.7/dist-packages (from pytest>=4.3.1->nvidia-smi) (0.10.2)\n",
            "Collecting pluggy<1.0.0a1,>=0.12\n",
            "  Downloading https://files.pythonhosted.org/packages/a0/28/85c7aa31b80d150b772fbe4a229487bc6644da9ccb7e427dd8cc60cb8a62/pluggy-0.13.1-py2.py3-none-any.whl\n",
            "Requirement already satisfied: packaging in /usr/local/lib/python3.7/dist-packages (from pytest>=4.3.1->nvidia-smi) (21.0)\n",
            "Requirement already satisfied: importlib-metadata>=0.12; python_version < \"3.8\" in /usr/local/lib/python3.7/dist-packages (from pytest>=4.3.1->nvidia-smi) (4.6.1)\n",
            "Requirement already satisfied: pyparsing>=2.0.2 in /usr/local/lib/python3.7/dist-packages (from packaging->pytest>=4.3.1->nvidia-smi) (2.4.7)\n",
            "Requirement already satisfied: typing-extensions>=3.6.4; python_version < \"3.8\" in /usr/local/lib/python3.7/dist-packages (from importlib-metadata>=0.12; python_version < \"3.8\"->pytest>=4.3.1->nvidia-smi) (3.7.4.3)\n",
            "Requirement already satisfied: zipp>=0.5 in /usr/local/lib/python3.7/dist-packages (from importlib-metadata>=0.12; python_version < \"3.8\"->pytest>=4.3.1->nvidia-smi) (3.5.0)\n",
            "Building wheels for collected packages: sorcery, littleutils\n",
            "  Building wheel for sorcery (setup.py) ... \u001b[?25l\u001b[?25hdone\n",
            "  Created wheel for sorcery: filename=sorcery-0.2.1-cp37-none-any.whl size=10767 sha256=00b99368e45e8ec3a3d8bd05da212232d92ddab838b496acac428ff1f440edb8\n",
            "  Stored in directory: /root/.cache/pip/wheels/9f/4f/7e/e9df57327c0fdb1f6f1fbf29ae642ac9641295ff5953eea21c\n",
            "  Building wheel for littleutils (setup.py) ... \u001b[?25l\u001b[?25hdone\n",
            "  Created wheel for littleutils: filename=littleutils-0.2.2-cp37-none-any.whl size=7050 sha256=cfc4042595d3a996d5bc2277a33823574c7b35c17fb716557e813b5eb9afe07d\n",
            "  Stored in directory: /root/.cache/pip/wheels/53/16/9f/ac67d15c40243754fd73f620e1b9b6dedc20492ecc19a2bae1\n",
            "Successfully built sorcery littleutils\n",
            "\u001b[31mERROR: datascience 0.10.6 has requirement folium==0.2.1, but you'll have folium 0.8.3 which is incompatible.\u001b[0m\n",
            "Installing collected packages: executing, littleutils, asttokens, sorcery, pluggy, pytest, nvidia-smi\n",
            "  Found existing installation: pluggy 0.7.1\n",
            "    Uninstalling pluggy-0.7.1:\n",
            "      Successfully uninstalled pluggy-0.7.1\n",
            "  Found existing installation: pytest 3.6.4\n",
            "    Uninstalling pytest-3.6.4:\n",
            "      Successfully uninstalled pytest-3.6.4\n",
            "Successfully installed asttokens-2.0.5 executing-0.7.0 littleutils-0.2.2 nvidia-smi-0.1.3 pluggy-0.13.1 pytest-6.2.4 sorcery-0.2.1\n"
          ],
          "name": "stdout"
        }
      ]
    },
    {
      "cell_type": "code",
      "metadata": {
        "id": "ndgsVDMui66v",
        "colab": {
          "base_uri": "https://localhost:8080/"
        },
        "outputId": "a213f17c-a4ac-47af-f22f-02334a8d5877"
      },
      "source": [
        "!nvidia-smi"
      ],
      "execution_count": null,
      "outputs": [
        {
          "output_type": "stream",
          "text": [
            "Sat Jul 17 08:08:18 2021       \n",
            "+-----------------------------------------------------------------------------+\n",
            "| NVIDIA-SMI 470.42.01    Driver Version: 460.32.03    CUDA Version: 11.2     |\n",
            "|-------------------------------+----------------------+----------------------+\n",
            "| GPU  Name        Persistence-M| Bus-Id        Disp.A | Volatile Uncorr. ECC |\n",
            "| Fan  Temp  Perf  Pwr:Usage/Cap|         Memory-Usage | GPU-Util  Compute M. |\n",
            "|                               |                      |               MIG M. |\n",
            "|===============================+======================+======================|\n",
            "|   0  Tesla T4            Off  | 00000000:00:04.0 Off |                    0 |\n",
            "| N/A   46C    P8    10W /  70W |      0MiB / 15109MiB |      0%      Default |\n",
            "|                               |                      |                  N/A |\n",
            "+-------------------------------+----------------------+----------------------+\n",
            "                                                                               \n",
            "+-----------------------------------------------------------------------------+\n",
            "| Processes:                                                                  |\n",
            "|  GPU   GI   CI        PID   Type   Process name                  GPU Memory |\n",
            "|        ID   ID                                                   Usage      |\n",
            "|=============================================================================|\n",
            "|  No running processes found                                                 |\n",
            "+-----------------------------------------------------------------------------+\n"
          ],
          "name": "stdout"
        }
      ]
    },
    {
      "cell_type": "markdown",
      "metadata": {
        "id": "X9apSRpOjIQo"
      },
      "source": [
        "## Import Full-Size-Images"
      ]
    },
    {
      "cell_type": "code",
      "metadata": {
        "id": "pza3OunJjE5i",
        "colab": {
          "base_uri": "https://localhost:8080/"
        },
        "outputId": "b5859270-e173-452d-d5f9-2105f8f91006"
      },
      "source": [
        "!gdown https://drive.google.com/uc?id=1KdpV3M27kV-_QOQOrAentfzZ2tew8YS-&"
      ],
      "execution_count": null,
      "outputs": [
        {
          "output_type": "stream",
          "text": [
            "Downloading...\n",
            "From: https://drive.google.com/uc?id=1KdpV3M27kV-_QOQOrAentfzZ2tew8YS-\n",
            "To: /content/images_fullsize.zip\n",
            "4.38GB [01:19, 55.2MB/s]\n"
          ],
          "name": "stdout"
        }
      ]
    },
    {
      "cell_type": "code",
      "metadata": {
        "id": "1S65Ki5BjL7S"
      },
      "source": [
        "!unzip -q /content/images_fullsize.zip"
      ],
      "execution_count": null,
      "outputs": []
    },
    {
      "cell_type": "code",
      "metadata": {
        "id": "STiHbAEcjPQh",
        "colab": {
          "base_uri": "https://localhost:8080/"
        },
        "outputId": "ba1c92b2-28a2-4a44-ac21-8312ce985490"
      },
      "source": [
        "!pip install fastai --upgrade -q\n",
        "!pip install -q efficientnet_pytorch"
      ],
      "execution_count": null,
      "outputs": [
        {
          "output_type": "stream",
          "text": [
            "\u001b[K     |████████████████████████████████| 194kB 8.1MB/s \n",
            "\u001b[K     |████████████████████████████████| 61kB 8.3MB/s \n",
            "\u001b[?25h  Building wheel for efficientnet-pytorch (setup.py) ... \u001b[?25l\u001b[?25hdone\n"
          ],
          "name": "stdout"
        }
      ]
    },
    {
      "cell_type": "code",
      "metadata": {
        "id": "SPUpdGiWimaf"
      },
      "source": [
        "!pip install --upgrade fastcore -q\n",
        "!pip install --upgrade fastai -q"
      ],
      "execution_count": null,
      "outputs": []
    },
    {
      "cell_type": "markdown",
      "metadata": {
        "id": "W1ErfXwAjV5h"
      },
      "source": [
        "## Libraries-Env"
      ]
    },
    {
      "cell_type": "code",
      "metadata": {
        "id": "TSxCtPpqjS5W"
      },
      "source": [
        "import random\n",
        "import numpy as np\n",
        "import gc\n",
        "from fastai.vision.all import *\n",
        "from fastai.vision import *\n",
        "from pathlib import Path\n",
        "import matplotlib.pyplot as plt\n",
        "from efficientnet_pytorch import EfficientNet"
      ],
      "execution_count": null,
      "outputs": []
    },
    {
      "cell_type": "code",
      "metadata": {
        "id": "wJpIifbZjcag"
      },
      "source": [
        "SEED_VAL  = 42\n",
        "# Set the seed value all over the place to make this reproducible.\n",
        "def seed_all(SEED):\n",
        "  random.seed(SEED_VAL)\n",
        "  np.random.seed(SEED_VAL)\n",
        "  torch.manual_seed(SEED_VAL)\n",
        "  torch.cuda.manual_seed_all(SEED_VAL)\n",
        "  os.environ['PYTHONHASHSEED'] = str(SEED_VAL)\n",
        "  torch.backends.cudnn.deterministic = True\n",
        "  torch.backends.cudnn.benchmark = False"
      ],
      "execution_count": null,
      "outputs": []
    },
    {
      "cell_type": "code",
      "metadata": {
        "id": "ERggK-tUjfPc",
        "colab": {
          "base_uri": "https://localhost:8080/"
        },
        "outputId": "5a9d5aae-b7f9-4595-87a2-0183c54332cd"
      },
      "source": [
        "print('Make sure cuda is installed:', torch.cuda.is_available())\n",
        "print('Make sure cudnn is enabled:', torch.backends.cudnn.enabled)"
      ],
      "execution_count": null,
      "outputs": [
        {
          "output_type": "stream",
          "text": [
            "Make sure cuda is installed: True\n",
            "Make sure cudnn is enabled: True\n"
          ],
          "name": "stdout"
        }
      ]
    },
    {
      "cell_type": "markdown",
      "metadata": {
        "id": "OHBx8FQpjlgr"
      },
      "source": [
        "## Train-Submission"
      ]
    },
    {
      "cell_type": "code",
      "metadata": {
        "id": "Kc-jc-pAjirM"
      },
      "source": [
        "def get_model(dls,pretrained=True, **kwargs):\n",
        "    model = EfficientNet.from_pretrained(model_name)\n",
        "    model._fc = nn.Linear(model._fc.in_features, dls.c)\n",
        "    return model"
      ],
      "execution_count": null,
      "outputs": []
    },
    {
      "cell_type": "code",
      "metadata": {
        "id": "5ogDHT_fjxuS"
      },
      "source": [
        "#params\n",
        "model_name = 'efficientnet-b4'\n",
        "\n",
        "def X_Rays_FASTAI_First_Place_Solution() :\n",
        "  seed_all(SEED_VAL)\n",
        "  df = pd.read_csv(\"/content/Train.csv\")\n",
        "  df2 = pd.read_csv(\"/content/Test.csv\")\n",
        "  dls = ImageDataLoaders.from_df(df,\n",
        "                               path='/content', \n",
        "                               label_col=\"LABEL\",\n",
        "                               item_tfms=RandomResizedCrop(512, min_scale=0.5),\n",
        "                               batch_tfms=aug_transforms(mult=1.0, do_flip=True, \n",
        "                                                        flip_vert=True, max_rotate=10., \n",
        "                                                        max_zoom=1.1,max_warp=0.2, \n",
        "                                                        p_affine=0.75, p_lighting=0, \n",
        "                                                        xtra_tfms=None),\n",
        "                               valid_pct=0.03,\n",
        "                               bs=8,\n",
        "                               val_bs=8)\n",
        "  # define - Learner\n",
        "  learn = Learner(dls=dls,model= get_model(dls), metrics=[accuracy])\n",
        "  print(\"\\n `\\n Start Training ....\")\n",
        "  learn.fit_one_cycle(20,1e-3)\n",
        "  print(\"\\n `\\n Unfreeze & Again Training ....\")\n",
        "  learn.unfreeze()\n",
        "  learn.fit_one_cycle(5,1e-4)\n",
        "  print(\"\\n `\\n Start PREDICTING ....\")\n",
        "  test_image_ids = [img.split(\".\")[0] for img in os.listdir(\"/content/test\") ]\n",
        "  test_images = [f\"/content/test/{img}.png\" for img in test_image_ids]\n",
        "  preds = learn.get_preds(dl=dls.test_dl(test_images, shuffle=False, drop_last=False))\n",
        "  imglabels = list(df.columns[1:])\n",
        "  ls = preds[0]\n",
        "  lss = list(ls[0])\n",
        "  vocab = list(dls[0].dataset.vocab)\n",
        "  submission = pd.DataFrame()\n",
        "  submission[\"ID\"] = test_image_ids\n",
        "  for i in range(2):\n",
        "    submission[vocab[i]] = ls[:, i]\n",
        "  submission=submission.drop([0], axis=1)\n",
        "  return submission"
      ],
      "execution_count": null,
      "outputs": []
    },
    {
      "cell_type": "code",
      "metadata": {
        "id": "hj8LZgPMj5PO",
        "colab": {
          "base_uri": "https://localhost:8080/",
          "height": 1000,
          "referenced_widgets": [
            "5cd0a7cef6e74c609b55d3f119b4db88",
            "0b2b1de7e408460fb24befa60a1f3e35",
            "e720273402e44723b0f6bcdef8bfa326",
            "ecd0b9a3d0fa4ac09dda9c88b797445f",
            "5ca5a35910bd4d8e94566b4253409dae",
            "c1f8bb39c2114525afcc3b0ceb559a91",
            "6184e8b6361c4931aa894183d998ca4a",
            "9b50c35413c9440482cd260f862f2177"
          ]
        },
        "outputId": "5a9f2cba-2cdd-44bd-a5ea-75c87d1564f0"
      },
      "source": [
        "submission = X_Rays_FASTAI_First_Place_Solution()\n",
        "submission.to_csv(\"effb4.csv\", index=False)"
      ],
      "execution_count": null,
      "outputs": [
        {
          "output_type": "stream",
          "text": [
            "/usr/local/lib/python3.7/dist-packages/torch/_tensor.py:1023: UserWarning: torch.solve is deprecated in favor of torch.linalg.solveand will be removed in a future PyTorch release.\n",
            "torch.linalg.solve has its arguments reversed and does not return the LU factorization.\n",
            "To get the LU factorization see torch.lu, which can be used with torch.lu_solve or torch.lu_unpack.\n",
            "X = torch.solve(B, A).solution\n",
            "should be replaced with\n",
            "X = torch.linalg.solve(A, B) (Triggered internally at  /pytorch/aten/src/ATen/native/BatchLinearAlgebra.cpp:760.)\n",
            "  ret = func(*args, **kwargs)\n",
            "Downloading: \"https://github.com/lukemelas/EfficientNet-PyTorch/releases/download/1.0/efficientnet-b4-6ed6700e.pth\" to /root/.cache/torch/hub/checkpoints/efficientnet-b4-6ed6700e.pth\n"
          ],
          "name": "stderr"
        },
        {
          "output_type": "display_data",
          "data": {
            "application/vnd.jupyter.widget-view+json": {
              "model_id": "5cd0a7cef6e74c609b55d3f119b4db88",
              "version_minor": 0,
              "version_major": 2
            },
            "text/plain": [
              "HBox(children=(FloatProgress(value=0.0, max=77999237.0), HTML(value='')))"
            ]
          },
          "metadata": {
            "tags": []
          }
        },
        {
          "output_type": "stream",
          "text": [
            "\n",
            "Loaded pretrained weights for efficientnet-b4\n",
            "\n",
            " `\n",
            " Start Training ....\n"
          ],
          "name": "stdout"
        },
        {
          "output_type": "display_data",
          "data": {
            "text/html": [
              "<table border=\"1\" class=\"dataframe\">\n",
              "  <thead>\n",
              "    <tr style=\"text-align: left;\">\n",
              "      <th>epoch</th>\n",
              "      <th>train_loss</th>\n",
              "      <th>valid_loss</th>\n",
              "      <th>accuracy</th>\n",
              "      <th>time</th>\n",
              "    </tr>\n",
              "  </thead>\n",
              "  <tbody>\n",
              "    <tr>\n",
              "      <td>0</td>\n",
              "      <td>0.620466</td>\n",
              "      <td>0.806990</td>\n",
              "      <td>0.428571</td>\n",
              "      <td>01:47</td>\n",
              "    </tr>\n",
              "    <tr>\n",
              "      <td>1</td>\n",
              "      <td>0.542340</td>\n",
              "      <td>0.745479</td>\n",
              "      <td>0.476190</td>\n",
              "      <td>01:47</td>\n",
              "    </tr>\n",
              "    <tr>\n",
              "      <td>2</td>\n",
              "      <td>0.514152</td>\n",
              "      <td>0.764109</td>\n",
              "      <td>0.523810</td>\n",
              "      <td>01:46</td>\n",
              "    </tr>\n",
              "    <tr>\n",
              "      <td>3</td>\n",
              "      <td>0.525125</td>\n",
              "      <td>0.423045</td>\n",
              "      <td>0.857143</td>\n",
              "      <td>01:47</td>\n",
              "    </tr>\n",
              "    <tr>\n",
              "      <td>4</td>\n",
              "      <td>0.544205</td>\n",
              "      <td>1.030579</td>\n",
              "      <td>0.428571</td>\n",
              "      <td>01:45</td>\n",
              "    </tr>\n",
              "    <tr>\n",
              "      <td>5</td>\n",
              "      <td>0.584516</td>\n",
              "      <td>0.595700</td>\n",
              "      <td>0.761905</td>\n",
              "      <td>01:43</td>\n",
              "    </tr>\n",
              "    <tr>\n",
              "      <td>6</td>\n",
              "      <td>0.540835</td>\n",
              "      <td>0.448331</td>\n",
              "      <td>0.666667</td>\n",
              "      <td>01:44</td>\n",
              "    </tr>\n",
              "    <tr>\n",
              "      <td>7</td>\n",
              "      <td>0.512477</td>\n",
              "      <td>1.127697</td>\n",
              "      <td>0.571429</td>\n",
              "      <td>01:44</td>\n",
              "    </tr>\n",
              "    <tr>\n",
              "      <td>8</td>\n",
              "      <td>0.466173</td>\n",
              "      <td>0.211964</td>\n",
              "      <td>0.904762</td>\n",
              "      <td>01:44</td>\n",
              "    </tr>\n",
              "    <tr>\n",
              "      <td>9</td>\n",
              "      <td>0.425740</td>\n",
              "      <td>0.230399</td>\n",
              "      <td>0.952381</td>\n",
              "      <td>01:44</td>\n",
              "    </tr>\n",
              "    <tr>\n",
              "      <td>10</td>\n",
              "      <td>0.396408</td>\n",
              "      <td>0.342852</td>\n",
              "      <td>0.809524</td>\n",
              "      <td>01:45</td>\n",
              "    </tr>\n",
              "    <tr>\n",
              "      <td>11</td>\n",
              "      <td>0.392291</td>\n",
              "      <td>0.630142</td>\n",
              "      <td>0.809524</td>\n",
              "      <td>01:45</td>\n",
              "    </tr>\n",
              "    <tr>\n",
              "      <td>12</td>\n",
              "      <td>0.355308</td>\n",
              "      <td>0.185318</td>\n",
              "      <td>0.952381</td>\n",
              "      <td>01:43</td>\n",
              "    </tr>\n",
              "    <tr>\n",
              "      <td>13</td>\n",
              "      <td>0.335478</td>\n",
              "      <td>0.279077</td>\n",
              "      <td>0.952381</td>\n",
              "      <td>01:44</td>\n",
              "    </tr>\n",
              "    <tr>\n",
              "      <td>14</td>\n",
              "      <td>0.273693</td>\n",
              "      <td>0.268471</td>\n",
              "      <td>0.952381</td>\n",
              "      <td>01:44</td>\n",
              "    </tr>\n",
              "    <tr>\n",
              "      <td>15</td>\n",
              "      <td>0.235127</td>\n",
              "      <td>0.231827</td>\n",
              "      <td>0.952381</td>\n",
              "      <td>01:45</td>\n",
              "    </tr>\n",
              "    <tr>\n",
              "      <td>16</td>\n",
              "      <td>0.257551</td>\n",
              "      <td>0.190807</td>\n",
              "      <td>0.952381</td>\n",
              "      <td>01:44</td>\n",
              "    </tr>\n",
              "    <tr>\n",
              "      <td>17</td>\n",
              "      <td>0.247428</td>\n",
              "      <td>0.168342</td>\n",
              "      <td>0.952381</td>\n",
              "      <td>01:45</td>\n",
              "    </tr>\n",
              "    <tr>\n",
              "      <td>18</td>\n",
              "      <td>0.238616</td>\n",
              "      <td>0.184978</td>\n",
              "      <td>0.952381</td>\n",
              "      <td>01:44</td>\n",
              "    </tr>\n",
              "    <tr>\n",
              "      <td>19</td>\n",
              "      <td>0.179223</td>\n",
              "      <td>0.179249</td>\n",
              "      <td>0.952381</td>\n",
              "      <td>01:44</td>\n",
              "    </tr>\n",
              "  </tbody>\n",
              "</table>"
            ],
            "text/plain": [
              "<IPython.core.display.HTML object>"
            ]
          },
          "metadata": {
            "tags": []
          }
        },
        {
          "output_type": "stream",
          "text": [
            "\n",
            " `\n",
            " Unfreeze & Again Training ....\n"
          ],
          "name": "stdout"
        },
        {
          "output_type": "display_data",
          "data": {
            "text/html": [
              "<table border=\"1\" class=\"dataframe\">\n",
              "  <thead>\n",
              "    <tr style=\"text-align: left;\">\n",
              "      <th>epoch</th>\n",
              "      <th>train_loss</th>\n",
              "      <th>valid_loss</th>\n",
              "      <th>accuracy</th>\n",
              "      <th>time</th>\n",
              "    </tr>\n",
              "  </thead>\n",
              "  <tbody>\n",
              "    <tr>\n",
              "      <td>0</td>\n",
              "      <td>0.227539</td>\n",
              "      <td>0.222026</td>\n",
              "      <td>0.952381</td>\n",
              "      <td>01:45</td>\n",
              "    </tr>\n",
              "    <tr>\n",
              "      <td>1</td>\n",
              "      <td>0.201967</td>\n",
              "      <td>0.195245</td>\n",
              "      <td>0.952381</td>\n",
              "      <td>01:44</td>\n",
              "    </tr>\n",
              "    <tr>\n",
              "      <td>2</td>\n",
              "      <td>0.217383</td>\n",
              "      <td>0.211470</td>\n",
              "      <td>0.952381</td>\n",
              "      <td>01:46</td>\n",
              "    </tr>\n",
              "    <tr>\n",
              "      <td>3</td>\n",
              "      <td>0.209593</td>\n",
              "      <td>0.169292</td>\n",
              "      <td>0.952381</td>\n",
              "      <td>01:44</td>\n",
              "    </tr>\n",
              "    <tr>\n",
              "      <td>4</td>\n",
              "      <td>0.222547</td>\n",
              "      <td>0.170601</td>\n",
              "      <td>0.952381</td>\n",
              "      <td>01:46</td>\n",
              "    </tr>\n",
              "  </tbody>\n",
              "</table>"
            ],
            "text/plain": [
              "<IPython.core.display.HTML object>"
            ]
          },
          "metadata": {
            "tags": []
          }
        },
        {
          "output_type": "stream",
          "text": [
            "\n",
            " `\n",
            " Start PREDICTING ....\n"
          ],
          "name": "stdout"
        },
        {
          "output_type": "display_data",
          "data": {
            "text/html": [
              ""
            ],
            "text/plain": [
              "<IPython.core.display.HTML object>"
            ]
          },
          "metadata": {
            "tags": []
          }
        }
      ]
    },
    {
      "cell_type": "code",
      "metadata": {
        "colab": {
          "base_uri": "https://localhost:8080/"
        },
        "id": "ED5um8SApjiE",
        "outputId": "b1d605eb-e2c8-49ef-ee42-a9ada23da766"
      },
      "source": [
        "pip install torch"
      ],
      "execution_count": null,
      "outputs": [
        {
          "output_type": "stream",
          "text": [
            "Requirement already satisfied: torch in /usr/local/lib/python3.7/dist-packages (1.9.0+cu102)\n",
            "Requirement already satisfied: typing-extensions in /usr/local/lib/python3.7/dist-packages (from torch) (3.7.4.3)\n"
          ],
          "name": "stdout"
        }
      ]
    },
    {
      "cell_type": "code",
      "metadata": {
        "id": "hsVZBh9S0wiZ"
      },
      "source": [
        "import torch\n",
        "import torch.nn as nn\n",
        "import torch.optim as optim"
      ],
      "execution_count": null,
      "outputs": []
    },
    {
      "cell_type": "code",
      "metadata": {
        "colab": {
          "base_uri": "https://localhost:8080/",
          "height": 1000
        },
        "id": "dg0eal5bvQJB",
        "outputId": "0d851c59-ab8f-4bae-8051-e2d661014c9d"
      },
      "source": [
        "#saving the model\n",
        "model = X_Rays_FASTAI_First_Place_Solution()\n",
        "torch.save(model,'TBtorch.h5')"
      ],
      "execution_count": null,
      "outputs": [
        {
          "output_type": "stream",
          "text": [
            "Loaded pretrained weights for efficientnet-b4\n",
            "\n",
            " `\n",
            " Start Training ....\n"
          ],
          "name": "stdout"
        },
        {
          "output_type": "display_data",
          "data": {
            "text/html": [
              "<table border=\"1\" class=\"dataframe\">\n",
              "  <thead>\n",
              "    <tr style=\"text-align: left;\">\n",
              "      <th>epoch</th>\n",
              "      <th>train_loss</th>\n",
              "      <th>valid_loss</th>\n",
              "      <th>accuracy</th>\n",
              "      <th>time</th>\n",
              "    </tr>\n",
              "  </thead>\n",
              "  <tbody>\n",
              "    <tr>\n",
              "      <td>0</td>\n",
              "      <td>0.620466</td>\n",
              "      <td>0.806990</td>\n",
              "      <td>0.428571</td>\n",
              "      <td>01:45</td>\n",
              "    </tr>\n",
              "    <tr>\n",
              "      <td>1</td>\n",
              "      <td>0.542340</td>\n",
              "      <td>0.745479</td>\n",
              "      <td>0.476190</td>\n",
              "      <td>01:44</td>\n",
              "    </tr>\n",
              "    <tr>\n",
              "      <td>2</td>\n",
              "      <td>0.514152</td>\n",
              "      <td>0.764109</td>\n",
              "      <td>0.523810</td>\n",
              "      <td>01:45</td>\n",
              "    </tr>\n",
              "    <tr>\n",
              "      <td>3</td>\n",
              "      <td>0.525125</td>\n",
              "      <td>0.423045</td>\n",
              "      <td>0.857143</td>\n",
              "      <td>01:45</td>\n",
              "    </tr>\n",
              "    <tr>\n",
              "      <td>4</td>\n",
              "      <td>0.544205</td>\n",
              "      <td>1.030579</td>\n",
              "      <td>0.428571</td>\n",
              "      <td>01:47</td>\n",
              "    </tr>\n",
              "    <tr>\n",
              "      <td>5</td>\n",
              "      <td>0.584516</td>\n",
              "      <td>0.595700</td>\n",
              "      <td>0.761905</td>\n",
              "      <td>01:45</td>\n",
              "    </tr>\n",
              "    <tr>\n",
              "      <td>6</td>\n",
              "      <td>0.540835</td>\n",
              "      <td>0.448331</td>\n",
              "      <td>0.666667</td>\n",
              "      <td>01:45</td>\n",
              "    </tr>\n",
              "    <tr>\n",
              "      <td>7</td>\n",
              "      <td>0.512477</td>\n",
              "      <td>1.127697</td>\n",
              "      <td>0.571429</td>\n",
              "      <td>01:44</td>\n",
              "    </tr>\n",
              "    <tr>\n",
              "      <td>8</td>\n",
              "      <td>0.466173</td>\n",
              "      <td>0.211964</td>\n",
              "      <td>0.904762</td>\n",
              "      <td>01:46</td>\n",
              "    </tr>\n",
              "    <tr>\n",
              "      <td>9</td>\n",
              "      <td>0.425740</td>\n",
              "      <td>0.230399</td>\n",
              "      <td>0.952381</td>\n",
              "      <td>01:46</td>\n",
              "    </tr>\n",
              "    <tr>\n",
              "      <td>10</td>\n",
              "      <td>0.396408</td>\n",
              "      <td>0.342852</td>\n",
              "      <td>0.809524</td>\n",
              "      <td>01:45</td>\n",
              "    </tr>\n",
              "    <tr>\n",
              "      <td>11</td>\n",
              "      <td>0.392291</td>\n",
              "      <td>0.630142</td>\n",
              "      <td>0.809524</td>\n",
              "      <td>01:45</td>\n",
              "    </tr>\n",
              "    <tr>\n",
              "      <td>12</td>\n",
              "      <td>0.355308</td>\n",
              "      <td>0.185318</td>\n",
              "      <td>0.952381</td>\n",
              "      <td>01:44</td>\n",
              "    </tr>\n",
              "    <tr>\n",
              "      <td>13</td>\n",
              "      <td>0.335478</td>\n",
              "      <td>0.279077</td>\n",
              "      <td>0.952381</td>\n",
              "      <td>01:45</td>\n",
              "    </tr>\n",
              "    <tr>\n",
              "      <td>14</td>\n",
              "      <td>0.273693</td>\n",
              "      <td>0.268471</td>\n",
              "      <td>0.952381</td>\n",
              "      <td>01:43</td>\n",
              "    </tr>\n",
              "    <tr>\n",
              "      <td>15</td>\n",
              "      <td>0.235127</td>\n",
              "      <td>0.231827</td>\n",
              "      <td>0.952381</td>\n",
              "      <td>01:45</td>\n",
              "    </tr>\n",
              "    <tr>\n",
              "      <td>16</td>\n",
              "      <td>0.257551</td>\n",
              "      <td>0.190807</td>\n",
              "      <td>0.952381</td>\n",
              "      <td>01:45</td>\n",
              "    </tr>\n",
              "    <tr>\n",
              "      <td>17</td>\n",
              "      <td>0.247428</td>\n",
              "      <td>0.168342</td>\n",
              "      <td>0.952381</td>\n",
              "      <td>01:45</td>\n",
              "    </tr>\n",
              "    <tr>\n",
              "      <td>18</td>\n",
              "      <td>0.238616</td>\n",
              "      <td>0.184978</td>\n",
              "      <td>0.952381</td>\n",
              "      <td>01:46</td>\n",
              "    </tr>\n",
              "    <tr>\n",
              "      <td>19</td>\n",
              "      <td>0.179223</td>\n",
              "      <td>0.179249</td>\n",
              "      <td>0.952381</td>\n",
              "      <td>01:45</td>\n",
              "    </tr>\n",
              "  </tbody>\n",
              "</table>"
            ],
            "text/plain": [
              "<IPython.core.display.HTML object>"
            ]
          },
          "metadata": {
            "tags": []
          }
        },
        {
          "output_type": "stream",
          "text": [
            "\n",
            " `\n",
            " Unfreeze & Again Training ....\n"
          ],
          "name": "stdout"
        },
        {
          "output_type": "display_data",
          "data": {
            "text/html": [
              "<table border=\"1\" class=\"dataframe\">\n",
              "  <thead>\n",
              "    <tr style=\"text-align: left;\">\n",
              "      <th>epoch</th>\n",
              "      <th>train_loss</th>\n",
              "      <th>valid_loss</th>\n",
              "      <th>accuracy</th>\n",
              "      <th>time</th>\n",
              "    </tr>\n",
              "  </thead>\n",
              "  <tbody>\n",
              "    <tr>\n",
              "      <td>0</td>\n",
              "      <td>0.227539</td>\n",
              "      <td>0.222026</td>\n",
              "      <td>0.952381</td>\n",
              "      <td>01:46</td>\n",
              "    </tr>\n",
              "    <tr>\n",
              "      <td>1</td>\n",
              "      <td>0.201967</td>\n",
              "      <td>0.195245</td>\n",
              "      <td>0.952381</td>\n",
              "      <td>01:44</td>\n",
              "    </tr>\n",
              "    <tr>\n",
              "      <td>2</td>\n",
              "      <td>0.217383</td>\n",
              "      <td>0.211470</td>\n",
              "      <td>0.952381</td>\n",
              "      <td>01:46</td>\n",
              "    </tr>\n",
              "    <tr>\n",
              "      <td>3</td>\n",
              "      <td>0.209593</td>\n",
              "      <td>0.169292</td>\n",
              "      <td>0.952381</td>\n",
              "      <td>01:44</td>\n",
              "    </tr>\n",
              "    <tr>\n",
              "      <td>4</td>\n",
              "      <td>0.222547</td>\n",
              "      <td>0.170601</td>\n",
              "      <td>0.952381</td>\n",
              "      <td>01:45</td>\n",
              "    </tr>\n",
              "  </tbody>\n",
              "</table>"
            ],
            "text/plain": [
              "<IPython.core.display.HTML object>"
            ]
          },
          "metadata": {
            "tags": []
          }
        },
        {
          "output_type": "stream",
          "text": [
            "\n",
            " `\n",
            " Start PREDICTING ....\n"
          ],
          "name": "stdout"
        },
        {
          "output_type": "display_data",
          "data": {
            "text/html": [
              ""
            ],
            "text/plain": [
              "<IPython.core.display.HTML object>"
            ]
          },
          "metadata": {
            "tags": []
          }
        }
      ]
    },
    {
      "cell_type": "code",
      "metadata": {
        "colab": {
          "base_uri": "https://localhost:8080/",
          "height": 1000
        },
        "id": "KlREwl5x01NE",
        "outputId": "b42ee1b4-b61a-4b92-8edd-4d8510397635"
      },
      "source": [
        "PATH = \"TB_Pytorch.pt\"\n",
        "\n",
        "# Save\n",
        "torch.save(X_Rays_FASTAI_First_Place_Solution(), PATH)"
      ],
      "execution_count": null,
      "outputs": [
        {
          "output_type": "stream",
          "text": [
            "Loaded pretrained weights for efficientnet-b0\n",
            "\n",
            " `\n",
            " Start Training ....\n"
          ],
          "name": "stdout"
        },
        {
          "output_type": "display_data",
          "data": {
            "text/html": [
              "<table border=\"1\" class=\"dataframe\">\n",
              "  <thead>\n",
              "    <tr style=\"text-align: left;\">\n",
              "      <th>epoch</th>\n",
              "      <th>train_loss</th>\n",
              "      <th>valid_loss</th>\n",
              "      <th>accuracy</th>\n",
              "      <th>time</th>\n",
              "    </tr>\n",
              "  </thead>\n",
              "  <tbody>\n",
              "    <tr>\n",
              "      <td>0</td>\n",
              "      <td>0.615571</td>\n",
              "      <td>0.742875</td>\n",
              "      <td>0.190476</td>\n",
              "      <td>01:36</td>\n",
              "    </tr>\n",
              "    <tr>\n",
              "      <td>1</td>\n",
              "      <td>0.553421</td>\n",
              "      <td>0.772832</td>\n",
              "      <td>0.285714</td>\n",
              "      <td>01:36</td>\n",
              "    </tr>\n",
              "    <tr>\n",
              "      <td>2</td>\n",
              "      <td>0.517311</td>\n",
              "      <td>0.954787</td>\n",
              "      <td>0.428571</td>\n",
              "      <td>01:36</td>\n",
              "    </tr>\n",
              "    <tr>\n",
              "      <td>3</td>\n",
              "      <td>0.528783</td>\n",
              "      <td>0.610506</td>\n",
              "      <td>0.619048</td>\n",
              "      <td>01:36</td>\n",
              "    </tr>\n",
              "    <tr>\n",
              "      <td>4</td>\n",
              "      <td>0.514235</td>\n",
              "      <td>0.485703</td>\n",
              "      <td>0.761905</td>\n",
              "      <td>01:38</td>\n",
              "    </tr>\n",
              "    <tr>\n",
              "      <td>5</td>\n",
              "      <td>0.528852</td>\n",
              "      <td>0.577001</td>\n",
              "      <td>0.809524</td>\n",
              "      <td>01:37</td>\n",
              "    </tr>\n",
              "    <tr>\n",
              "      <td>6</td>\n",
              "      <td>0.500814</td>\n",
              "      <td>0.552485</td>\n",
              "      <td>0.809524</td>\n",
              "      <td>01:37</td>\n",
              "    </tr>\n",
              "    <tr>\n",
              "      <td>7</td>\n",
              "      <td>0.492735</td>\n",
              "      <td>0.214415</td>\n",
              "      <td>0.952381</td>\n",
              "      <td>01:38</td>\n",
              "    </tr>\n",
              "    <tr>\n",
              "      <td>8</td>\n",
              "      <td>0.442003</td>\n",
              "      <td>0.369189</td>\n",
              "      <td>0.904762</td>\n",
              "      <td>01:38</td>\n",
              "    </tr>\n",
              "    <tr>\n",
              "      <td>9</td>\n",
              "      <td>0.404571</td>\n",
              "      <td>0.222823</td>\n",
              "      <td>0.904762</td>\n",
              "      <td>01:38</td>\n",
              "    </tr>\n",
              "    <tr>\n",
              "      <td>10</td>\n",
              "      <td>0.426281</td>\n",
              "      <td>0.389821</td>\n",
              "      <td>0.809524</td>\n",
              "      <td>01:39</td>\n",
              "    </tr>\n",
              "    <tr>\n",
              "      <td>11</td>\n",
              "      <td>0.383458</td>\n",
              "      <td>0.321535</td>\n",
              "      <td>0.904762</td>\n",
              "      <td>01:39</td>\n",
              "    </tr>\n",
              "    <tr>\n",
              "      <td>12</td>\n",
              "      <td>0.340347</td>\n",
              "      <td>0.292187</td>\n",
              "      <td>0.904762</td>\n",
              "      <td>01:38</td>\n",
              "    </tr>\n",
              "    <tr>\n",
              "      <td>13</td>\n",
              "      <td>0.314915</td>\n",
              "      <td>0.230572</td>\n",
              "      <td>0.904762</td>\n",
              "      <td>01:39</td>\n",
              "    </tr>\n",
              "    <tr>\n",
              "      <td>14</td>\n",
              "      <td>0.252411</td>\n",
              "      <td>0.617679</td>\n",
              "      <td>0.904762</td>\n",
              "      <td>01:39</td>\n",
              "    </tr>\n",
              "    <tr>\n",
              "      <td>15</td>\n",
              "      <td>0.213169</td>\n",
              "      <td>0.207691</td>\n",
              "      <td>0.904762</td>\n",
              "      <td>01:40</td>\n",
              "    </tr>\n",
              "    <tr>\n",
              "      <td>16</td>\n",
              "      <td>0.218869</td>\n",
              "      <td>0.239652</td>\n",
              "      <td>0.904762</td>\n",
              "      <td>01:40</td>\n",
              "    </tr>\n",
              "    <tr>\n",
              "      <td>17</td>\n",
              "      <td>0.228321</td>\n",
              "      <td>0.249391</td>\n",
              "      <td>0.904762</td>\n",
              "      <td>01:40</td>\n",
              "    </tr>\n",
              "    <tr>\n",
              "      <td>18</td>\n",
              "      <td>0.218160</td>\n",
              "      <td>0.213108</td>\n",
              "      <td>0.904762</td>\n",
              "      <td>01:41</td>\n",
              "    </tr>\n",
              "    <tr>\n",
              "      <td>19</td>\n",
              "      <td>0.192741</td>\n",
              "      <td>0.220578</td>\n",
              "      <td>0.904762</td>\n",
              "      <td>01:40</td>\n",
              "    </tr>\n",
              "  </tbody>\n",
              "</table>"
            ],
            "text/plain": [
              "<IPython.core.display.HTML object>"
            ]
          },
          "metadata": {
            "tags": []
          }
        },
        {
          "output_type": "stream",
          "text": [
            "\n",
            " `\n",
            " Unfreeze & Again Training ....\n"
          ],
          "name": "stdout"
        },
        {
          "output_type": "display_data",
          "data": {
            "text/html": [
              "<table border=\"1\" class=\"dataframe\">\n",
              "  <thead>\n",
              "    <tr style=\"text-align: left;\">\n",
              "      <th>epoch</th>\n",
              "      <th>train_loss</th>\n",
              "      <th>valid_loss</th>\n",
              "      <th>accuracy</th>\n",
              "      <th>time</th>\n",
              "    </tr>\n",
              "  </thead>\n",
              "  <tbody>\n",
              "    <tr>\n",
              "      <td>0</td>\n",
              "      <td>0.242676</td>\n",
              "      <td>0.206324</td>\n",
              "      <td>0.904762</td>\n",
              "      <td>01:40</td>\n",
              "    </tr>\n",
              "    <tr>\n",
              "      <td>1</td>\n",
              "      <td>0.211311</td>\n",
              "      <td>0.178137</td>\n",
              "      <td>0.904762</td>\n",
              "      <td>01:40</td>\n",
              "    </tr>\n",
              "    <tr>\n",
              "      <td>2</td>\n",
              "      <td>0.208031</td>\n",
              "      <td>0.163466</td>\n",
              "      <td>0.904762</td>\n",
              "      <td>01:40</td>\n",
              "    </tr>\n",
              "    <tr>\n",
              "      <td>3</td>\n",
              "      <td>0.194243</td>\n",
              "      <td>0.186552</td>\n",
              "      <td>0.904762</td>\n",
              "      <td>01:39</td>\n",
              "    </tr>\n",
              "    <tr>\n",
              "      <td>4</td>\n",
              "      <td>0.195139</td>\n",
              "      <td>0.180523</td>\n",
              "      <td>0.904762</td>\n",
              "      <td>01:39</td>\n",
              "    </tr>\n",
              "  </tbody>\n",
              "</table>"
            ],
            "text/plain": [
              "<IPython.core.display.HTML object>"
            ]
          },
          "metadata": {
            "tags": []
          }
        },
        {
          "output_type": "stream",
          "text": [
            "\n",
            " `\n",
            " Start PREDICTING ....\n"
          ],
          "name": "stdout"
        },
        {
          "output_type": "display_data",
          "data": {
            "text/html": [
              ""
            ],
            "text/plain": [
              "<IPython.core.display.HTML object>"
            ]
          },
          "metadata": {
            "tags": []
          }
        }
      ]
    },
    {
      "cell_type": "code",
      "metadata": {
        "id": "XnXUMXsWJltt"
      },
      "source": [
        "# import model_from_json from keras.models\n",
        "#\n",
        "from keras.models import model_from_json\n",
        "\n",
        "# serialize model to JSON\n",
        "#\n",
        "model_json = X_Rays_FASTAI_First_Place_Solution().to_json()\n",
        "\n",
        "with open(\"model.json\", \"w\") as json_file:\n",
        "    json_file.write(model_json)\n",
        "# serialize weights to HDF5\n",
        "#\n",
        "X_Rays_FASTAI_First_Place_Solution().save_weights(\"Pytorch(%)\")\n",
        "print(\"Saved model to disk\")"
      ],
      "execution_count": null,
      "outputs": []
    }
  ]
}